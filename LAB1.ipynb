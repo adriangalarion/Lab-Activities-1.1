{
 "cells": [
  {
   "cell_type": "markdown",
   "metadata": {},
   "source": [
    "## Linear Algebra"
   ]
  },
  {
   "cell_type": "markdown",
   "metadata": {},
   "source": [
    "## Laboratory 1: Welcome to Python Fundamentals"
   ]
  },
  {
   "cell_type": "markdown",
   "metadata": {},
   "source": [
    "Coded and Submitted by:"
   ]
  },
  {
   "cell_type": "markdown",
   "metadata": {},
   "source": [
    " Galarion, Adrian Q."
   ]
  },
  {
   "cell_type": "markdown",
   "metadata": {},
   "source": [
    "58051"
   ]
  },
  {
   "cell_type": "code",
   "execution_count": 20,
   "metadata": {},
   "outputs": [
    {
     "name": "stdout",
     "output_type": "stream",
     "text": [
      "The weights of your semestral grades are:\n",
      "\t30.00% for Prelims\n",
      "\t30.00% for Midterms, and\n",
      "\t40.00% for Finals.\n"
     ]
    }
   ],
   "source": [
    "w_pg, w_mg, w_fg = 0.3, 0.3, 0.4\n",
    "print(\"The weights of your semestral grades are:\\\n",
    "\\n\\t{:.2%} for Prelims\\\n",
    "\\n\\t{:.2%} for Midterms, and\\\n",
    "\\n\\t{:.2%} for Finals.\".format(w_pg, w_mg, w_fg))"
   ]
  },
  {
   "cell_type": "code",
   "execution_count": 24,
   "metadata": {},
   "outputs": [
    {
     "name": "stdin",
     "output_type": "stream",
     "text": [
      "Enter your name:  ad\n",
      "Enter your course: sd\n",
      "Enter prelim grade:  70\n",
      "Enter midterm grade:  70\n",
      "Enter finals grade:  70\n"
     ]
    },
    {
     "name": "stdout",
     "output_type": "stream",
     "text": [
      "Hello ad, your semestral grade is: 70.00\n",
      "😆\n"
     ]
    }
   ],
   "source": [
    "name = input(\"Enter your name: \")\n",
    "course = input(\"Enter your course:\")\n",
    "pg = float(input(\"Enter prelim grade: \"))\n",
    "mg = float(input(\"Enter midterm grade: \"))\n",
    "fg = float(input(\"Enter finals grade: \"))\n",
    "sem_grade = pg*w_pg + mg*w_mg + fg*w_fg\n",
    "print(\"Hello {}, your semestral grade is: {:.2f}\".format(name, sem_grade))\n",
    "\n",
    "if(sem_grade>70):\n",
    "    print(\"\\U0001F600\")\n",
    "elif(sem_grade == 70):\n",
    "    print(\"\\U0001F606\")\n",
    "else:\n",
    "    print(\"\\U0001F62D\")"
   ]
  },
  {
   "cell_type": "code",
   "execution_count": null,
   "metadata": {},
   "outputs": [],
   "source": []
  }
 ],
 "metadata": {
  "kernelspec": {
   "display_name": "Python 3",
   "language": "python",
   "name": "python3"
  },
  "language_info": {
   "codemirror_mode": {
    "name": "ipython",
    "version": 3
   },
   "file_extension": ".py",
   "mimetype": "text/x-python",
   "name": "python",
   "nbconvert_exporter": "python",
   "pygments_lexer": "ipython3",
   "version": "3.8.3"
  }
 },
 "nbformat": 4,
 "nbformat_minor": 4
}
