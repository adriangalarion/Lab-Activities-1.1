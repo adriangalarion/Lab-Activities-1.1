{
 "cells": [
  {
   "cell_type": "markdown",
   "metadata": {},
   "source": [
    "## Linear Algebra"
   ]
  },
  {
   "cell_type": "markdown",
   "metadata": {},
   "source": [
    "## Laboratory 2: Plotting Vector using NumPy and MatPlotLib\n"
   ]
  },
  {
   "cell_type": "markdown",
   "metadata": {},
   "source": [
    "Coded and Submitted by:"
   ]
  },
  {
   "cell_type": "markdown",
   "metadata": {},
   "source": [
    " Galarion, Adrian Q."
   ]
  },
  {
   "cell_type": "markdown",
   "metadata": {},
   "source": [
    "58051"
   ]
  },
  {
   "cell_type": "code",
   "execution_count": 110,
   "metadata": {},
   "outputs": [],
   "source": [
    "import numpy as np\n",
    "import matplotlib.pyplot as plt\n",
    "import matplotlib\n",
    "import math"
   ]
  },
  {
   "cell_type": "code",
   "execution_count": 111,
   "metadata": {},
   "outputs": [],
   "source": [
    "pos1 = np.array([1,2,5])\n",
    "pos2 = np.array([3,3,1])\n",
    "pos3 = np.array([4,2,6])\n",
    "pos4 = np.array([1,1,5])\n",
    "pos5 = np.array([8,9,1])\n"
   ]
  },
  {
   "cell_type": "code",
   "execution_count": 112,
   "metadata": {},
   "outputs": [
    {
     "data": {
      "text/plain": [
       "array([4, 5, 6])"
      ]
     },
     "execution_count": 112,
     "metadata": {},
     "output_type": "execute_result"
    }
   ],
   "source": [
    "pos_total_1 = np.add(pos1,pos2) #addition\n",
    "pos_total_1"
   ]
  },
  {
   "cell_type": "code",
   "execution_count": 113,
   "metadata": {},
   "outputs": [
    {
     "data": {
      "text/plain": [
       "array([ 8,  7, 12])"
      ]
     },
     "execution_count": 113,
     "metadata": {},
     "output_type": "execute_result"
    }
   ],
   "source": [
    "pos_total_2 = np.add(pos_total_1,pos3) #addition\n",
    "pos_total_2"
   ]
  },
  {
   "cell_type": "code",
   "execution_count": 114,
   "metadata": {},
   "outputs": [
    {
     "data": {
      "text/plain": [
       "array([-15, -13,  -8])"
      ]
     },
     "execution_count": 114,
     "metadata": {},
     "output_type": "execute_result"
    }
   ],
   "source": [
    "pos_total_1 = pos1 - pos2 - pos3 - pos4 - pos5 #Subtruction\n",
    "pos_total_1"
   ]
  },
  {
   "cell_type": "code",
   "execution_count": 115,
   "metadata": {},
   "outputs": [
    {
     "data": {
      "text/plain": [
       "array([3, 6, 5])"
      ]
     },
     "execution_count": 115,
     "metadata": {},
     "output_type": "execute_result"
    }
   ],
   "source": [
    "pos_total_1 = np.multiply(pos1,pos2) #Multiplication\n",
    "pos_total_1"
   ]
  },
  {
   "cell_type": "code",
   "execution_count": 116,
   "metadata": {},
   "outputs": [
    {
     "data": {
      "text/plain": [
       "array([0.01041667, 0.03703704, 0.16666667])"
      ]
     },
     "execution_count": 116,
     "metadata": {},
     "output_type": "execute_result"
    }
   ],
   "source": [
    "pos_total_1 = a1 / a2 / a3 / a4 / a5 #Division\n",
    "pos_total_1"
   ]
  },
  {
   "cell_type": "code",
   "execution_count": 117,
   "metadata": {},
   "outputs": [
    {
     "name": "stdout",
     "output_type": "stream",
     "text": [
      "[4.12310563 4.12310563 4.24264069]\n"
     ]
    }
   ],
   "source": [
    "pos_total = pos1 + pos2 + pos3 + pos4 + pos5 #Square root\n",
    "\n",
    "a = math.sqrt(pos_total[0])\n",
    "b = math.sqrt(pos_total[1])\n",
    "c = math.sqrt(pos_total[2])\n",
    "\n",
    "sqrt_total = np.array([a,b,c])\n",
    "print(sqrt_total)"
   ]
  },
  {
   "cell_type": "code",
   "execution_count": 118,
   "metadata": {},
   "outputs": [
    {
     "data": {
      "text/plain": [
       "array([17, 17, 18])"
      ]
     },
     "execution_count": 118,
     "metadata": {},
     "output_type": "execute_result"
    }
   ],
   "source": [
    "pos_total = pos1 + pos2 + pos3 + pos4 + pos5 #Summation\n",
    "pos_total"
   ]
  },
  {
   "cell_type": "code",
   "execution_count": 119,
   "metadata": {},
   "outputs": [
    {
     "name": "stdout",
     "output_type": "stream",
     "text": [
      "[4 5 6]\n",
      "[ 2  2 -4]\n",
      "[4.  1.  1.2]\n"
     ]
    },
    {
     "data": {
      "image/png": "[encoded data removed]",
      "text/plain": [
       "<Figure size 432x288 with 1 Axes>"
      ]
     },
     "metadata": {
      "needs_background": "light"
     },
     "output_type": "display_data"
    }
   ],
   "source": [
    "A1 = pos1+pos2\n",
    "A2 = pos2-pos4\n",
    "A3 = pos3/pos1\n",
    "\n",
    "print(A1)\n",
    "print(A2)\n",
    "print(A3)\n",
    "\n",
    "plt.xlim(-15,15)\n",
    "plt.ylim(-15,15)\n",
    "plt.axhline(y=0, color = 'black')\n",
    "plt.axvline(x=0, color = 'black')\n",
    "plt.xlabel(\"X\")\n",
    "plt.xlabel(\"Y\")\n",
    "\n",
    "plt.quiver(0,0, A1[0], A1[1], angles =  'xy', scale_units =  'xy' , scale = 1, color = 'Red')\n",
    "plt.quiver(0,0, A2[0], A2[-1], angles =  'xy', scale_units =  'xy' , scale = 1, color = 'orange')\n",
    "plt.quiver(0,0, A3[0], A3[0], angles =  'xy', scale_units =  'xy' , scale = 1, color = 'green')\n",
    "\n",
    "\n",
    "\n",
    "\n",
    "\n",
    "\n",
    "\n",
    "\n",
    "plt.grid()\n",
    "plt.show()"
   ]
  },
  {
   "cell_type": "code",
   "execution_count": 125,
   "metadata": {},
   "outputs": [
    {
     "data": {
      "text/plain": [
       "array([289, 289, 324], dtype=int32)"
      ]
     },
     "execution_count": 125,
     "metadata": {},
     "output_type": "execute_result"
    }
   ],
   "source": [
    "pos_total = pos1 + pos2 + pos3 + pos4 + pos5 #Squaring\n",
    "\n",
    "a = pos_total ** 2\n",
    "a"
   ]
  },
  {
   "cell_type": "code",
   "execution_count": null,
   "metadata": {},
   "outputs": [],
   "source": []
  }
 ],
 "metadata": {
  "kernelspec": {
   "display_name": "Python 3",
   "language": "python",
   "name": "python3"
  },
  "language_info": {
   "codemirror_mode": {
    "name": "ipython",
    "version": 3
   },
   "file_extension": ".py",
   "mimetype": "text/x-python",
   "name": "python",
   "nbconvert_exporter": "python",
   "pygments_lexer": "ipython3",
   "version": "3.8.3"
  }
 },
 "nbformat": 4,
 "nbformat_minor": 4
}
