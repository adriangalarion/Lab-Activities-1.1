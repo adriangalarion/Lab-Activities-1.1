{
  "nbformat": 4,
  "nbformat_minor": 0,
  "metadata": {
    "colab": {
      "name": "Lab4.ipynb",
      "provenance": [],
      "collapsed_sections": []
    },
    "kernelspec": {
      "name": "python3",
      "display_name": "Python 3"
    }
  },
  "cells": [
    {
      "cell_type": "markdown",
      "metadata": {
        "id": "O4DSXpF-sEsE"
      },
      "source": [
        "**TASK 1**"
      ]
    },
    {
      "cell_type": "code",
      "metadata": {
        "id": "3lzPIHlLj4bi"
      },
      "source": [
        "import numpy as np\r\n",
        "import matplotlib.pyplot as plt\r\n",
        "%matplotlib inline"
      ],
      "execution_count": null,
      "outputs": []
    },
    {
      "cell_type": "code",
      "metadata": {
        "colab": {
          "base_uri": "https://localhost:8080/"
        },
        "id": "kjVkOJgvkB-1",
        "outputId": "8a3de590-1059-48c6-b018-b3390eebcdac"
      },
      "source": [
        "def explicit_func(G):\r\n",
        "    G = np.sqrt((G[0]**2)+(G[1]**2)+(G[2]**2)+(G[3]**2)+(G[4]**2))\r\n",
        "    print(G)\r\n",
        "A = np.array([3,4,7,4,1])\r\n",
        "B = np.array([3,3,5,1,2])\r\n",
        "C = np.array([1,8,0,8,4])\r\n",
        "D = np.array([5,3,4,1,0])\r\n",
        "X = np.array([1,2,3,4,4])\r\n",
        "Y = np.array([5,6,7,8,9])\r\n",
        "\r\n",
        "print(\"Explicit function: \")\r\n",
        "explicit_func(A)\r\n",
        "explicit_func(B)\r\n",
        "explicit_func(C)\r\n",
        "explicit_func(D)\r\n",
        "explicit_func(X)\r\n",
        "explicit_func(Y)\r\n",
        "print(\"\\n\")\r\n",
        "print(\"np.linalg.norm() function: \")\r\n",
        "print(np.linalg.norm(A))\r\n",
        "print(np.linalg.norm(B))\r\n",
        "print(np.linalg.norm(C))\r\n",
        "print(np.linalg.norm(D))\r\n",
        "print(np.linalg.norm(X))\r\n",
        "print(np.linalg.norm(Y))"
      ],
      "execution_count": 18,
      "outputs": [
        {
          "output_type": "stream",
          "text": [
            "Explicit function: \n",
            "9.539392014169456\n",
            "6.928203230275509\n",
            "12.041594578792296\n",
            "7.14142842854285\n",
            "6.782329983125268\n",
            "15.968719422671311\n",
            "\n",
            "\n",
            "np.linalg.norm() function: \n",
            "9.539392014169456\n",
            "6.928203230275509\n",
            "12.041594578792296\n",
            "7.14142842854285\n",
            "6.782329983125268\n",
            "15.968719422671311\n"
          ],
          "name": "stdout"
        }
      ]
    },
    {
      "cell_type": "markdown",
      "metadata": {
        "id": "HeGMOjnZsI25"
      },
      "source": [
        "**Task 2**"
      ]
    },
    {
      "cell_type": "code",
      "metadata": {
        "colab": {
          "base_uri": "https://localhost:8080/"
        },
        "id": "1NrSHtIasTmo",
        "outputId": "b539dd9d-dc68-47fe-eabd-76f9a23a5e7d"
      },
      "source": [
        "def exp_func(X, Y):\r\n",
        "    Product = ((X[0]*Y[0]) + (X[1]*Y[1]) + (X[2]*Y[2]) + (X[3]*Y[3]) + (X[4]*Y[4]))\r\n",
        "    print(Product)\r\n",
        "A = np.array([5,4,3,2,1])\r\n",
        "B = np.array([6,4,5,5,4])\r\n",
        "\r\n",
        "C = np.array([4,8,2,1,5])\r\n",
        "D = np.array([5,6,4,0,5])\r\n",
        "\r\n",
        "E = np.array([2,5,1,6,1])\r\n",
        "F = np.array([7,3,2,1,1])\r\n",
        "\r\n",
        "G = np.array([8,4,2,3,5])\r\n",
        "H = np.array([6,5,5,1,6])\r\n",
        "\r\n",
        "I = np.array([5,5,3,4,1])\r\n",
        "J = np.array([1,1,4,2,3])\r\n",
        "\r\n",
        "print(\"Explicit function: \")\r\n",
        "exp_func(A, B)\r\n",
        "exp_func(C, D)\r\n",
        "exp_func(E, F)\r\n",
        "exp_func(G, H)\r\n",
        "exp_func(I, J)\r\n",
        "print(\"\\n\")\r\n",
        "\r\n",
        "print(\"np.inner() function: \")\r\n",
        "print(np.inner(A, B))\r\n",
        "print(np.inner(C, D))\r\n",
        "print(np.inner(E, F))\r\n",
        "print(np.inner(G, H))\r\n",
        "print(np.inner(I, J))"
      ],
      "execution_count": 15,
      "outputs": [
        {
          "output_type": "stream",
          "text": [
            "Explicit function: \n",
            "75\n",
            "101\n",
            "38\n",
            "111\n",
            "33\n",
            "\n",
            "\n",
            "np.inner() function: \n",
            "75\n",
            "101\n",
            "38\n",
            "111\n",
            "33\n"
          ],
          "name": "stdout"
        }
      ]
    },
    {
      "cell_type": "markdown",
      "metadata": {
        "id": "NzxCG8qwu8Ui"
      },
      "source": [
        "**Task 3**"
      ]
    },
    {
      "cell_type": "code",
      "metadata": {
        "id": "g6g10Dw-u_OI",
        "colab": {
          "base_uri": "https://localhost:8080/"
        },
        "outputId": "653af044-9b23-438c-fe1b-84a715be793d"
      },
      "source": [
        "def formula(G,T,A):\r\n",
        "    Total = ((G@G + T@T + A@A) * (G * (T + G * T) / A)) * np.linalg.norm(G+T+A)\r\n",
        "    print(Total)\r\n",
        "    \r\n",
        "G = np.array([-0.4, 0.3, -0.6])\r\n",
        "T = np.array([-0.2, 0.2, 1])\r\n",
        "A = np.array([0.2, 0.1, -1.5])\r\n",
        "\r\n",
        "print(\"My Output: \")\r\n",
        "formula(G,T,A)\r\n"
      ],
      "execution_count": 24,
      "outputs": [
        {
          "output_type": "stream",
          "text": [
            "My Output: \n",
            "[1.25952615 4.09345999 0.8396841 ]\n"
          ],
          "name": "stdout"
        }
      ]
    },
    {
      "cell_type": "code",
      "metadata": {
        "colab": {
          "base_uri": "https://localhost:8080/",
          "height": 248
        },
        "id": "GZrYoT988DnG",
        "outputId": "24babac6-7224-4827-975c-fbf595f03ead"
      },
      "source": [
        "fig = plt.figure()\r\n",
        "plt1 = fig.gca(projection='3d')\r\n",
        "plt1.set_xlim([-2, 3])\r\n",
        "plt1.set_ylim([-2, 3])\r\n",
        "plt1.set_zlim([-2, 3])\r\n",
        "\r\n",
        "plt1.quiver(0, 0, 0,1.25952615, 4.09345999, 0.8396841 , colors='red')\r\n",
        "\r\n",
        "plt.show()"
      ],
      "execution_count": 31,
      "outputs": [
        {
          "output_type": "display_data",
          "data": {
            "image/png": "[encoded data removed]",
            "text/plain": [
              "<Figure size 432x288 with 1 Axes>"
            ]
          },
          "metadata": {
            "tags": [],
            "needs_background": "light"
          }
        }
      ]
    },
    {
      "cell_type": "code",
      "metadata": {
        "id": "EEseig3J_7MU"
      },
      "source": [
        ""
      ],
      "execution_count": null,
      "outputs": []
    }
  ]
}