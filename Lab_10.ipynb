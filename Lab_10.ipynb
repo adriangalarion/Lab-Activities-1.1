{
  "nbformat": 4,
  "nbformat_minor": 0,
  "metadata": {
    "colab": {
      "name": "Lab 10.ipynb",
      "provenance": [],
      "collapsed_sections": []
    },
    "kernelspec": {
      "name": "python3",
      "display_name": "Python 3"
    },
    "language_info": {
      "name": "python"
    }
  },
  "cells": [
    {
      "cell_type": "markdown",
      "metadata": {
        "id": "90uK1uqt7R__"
      },
      "source": [
        "## Laboratory 10 : Linear Transformations"
      ]
    },
    {
      "cell_type": "code",
      "metadata": {
        "id": "pev7l3y77K-l"
      },
      "source": [
        "import numpy as np\n",
        "import matplotlib.pyplot as plt\n",
        "%matplotlib inline"
      ],
      "execution_count": 1,
      "outputs": []
    },
    {
      "cell_type": "code",
      "metadata": {
        "colab": {
          "base_uri": "https://localhost:8080/",
          "height": 269
        },
        "id": "UvxiRcXC7WV3",
        "outputId": "e60d3ec3-7aaf-44ed-8a01-9a7bd50da22b"
      },
      "source": [
        "AG = np.array([\n",
        "    [4,0],\n",
        "    [0,6]\n",
        "])\n",
        "\n",
        "X = np.arange(0,1,0.2)\n",
        "\n",
        "plt.scatter(X*AG[0,0],X*AG[1,0], color='yellow')\n",
        "plt.scatter(X*AG[0,1],X*AG[1,1], color='black')\n",
        "\n",
        "\n",
        "plt.xlim(-2,4)\n",
        "plt.ylim(-2,4)\n",
        "plt.grid()\n",
        "plt.show()"
      ],
      "execution_count": 5,
      "outputs": [
        {
          "output_type": "display_data",
          "data": {
            "image/png": "[encoded data removed]",
            "text/plain": [
              "<Figure size 432x288 with 1 Axes>"
            ]
          },
          "metadata": {
            "tags": [],
            "needs_background": "light"
          }
        }
      ]
    },
    {
      "cell_type": "code",
      "metadata": {
        "colab": {
          "base_uri": "https://localhost:8080/",
          "height": 269
        },
        "id": "EUo2TnS57-ce",
        "outputId": "4334a71d-bd51-430b-85f0-4c5209a06953"
      },
      "source": [
        "XY = np.array([\n",
        "    [3,0],\n",
        "    [0,3]\n",
        "])\n",
        "\n",
        "a = np.arange(0,1,0.15)\n",
        "\n",
        "plt.scatter(a*XY[0,0],a*XY[1,0], color='yellow')\n",
        "plt.scatter(a*XY[0,1],a*XY[1,1], color='black')\n",
        "\n",
        "\n",
        "plt.xlim(-4,5)\n",
        "plt.ylim(-4,5)\n",
        "plt.grid()\n",
        "plt.show()"
      ],
      "execution_count": 14,
      "outputs": [
        {
          "output_type": "display_data",
          "data": {
            "image/png": "[encoded data removed]",
            "text/plain": [
              "<Figure size 432x288 with 1 Axes>"
            ]
          },
          "metadata": {
            "tags": [],
            "needs_background": "light"
          }
        }
      ]
    },
    {
      "cell_type": "code",
      "metadata": {
        "colab": {
          "base_uri": "https://localhost:8080/",
          "height": 269
        },
        "id": "DJXEI8kN9JC3",
        "outputId": "ee4c32f7-6504-4832-994f-a54588b33010"
      },
      "source": [
        "A = np.array([\n",
        "    [5,0],\n",
        "    [2,3]\n",
        "])\n",
        "\n",
        "b = np.arange(0,1,0.15)\n",
        "\n",
        "plt.scatter(b*A[0,0],b*A[1,0], color='yellow')\n",
        "plt.scatter(b*A[0,1],b*A[1,1], color='black')\n",
        "\n",
        "\n",
        "plt.xlim(-4,5)\n",
        "plt.ylim(-4,5)\n",
        "plt.grid()\n",
        "plt.show()"
      ],
      "execution_count": 16,
      "outputs": [
        {
          "output_type": "display_data",
          "data": {
            "image/png": "[encoded data removed]",
            "text/plain": [
              "<Figure size 432x288 with 1 Axes>"
            ]
          },
          "metadata": {
            "tags": [],
            "needs_background": "light"
          }
        }
      ]
    }
  ]
}