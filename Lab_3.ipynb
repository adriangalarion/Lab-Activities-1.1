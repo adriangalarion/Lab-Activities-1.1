{
  "nbformat": 4,
  "nbformat_minor": 0,
  "metadata": {
    "colab": {
      "name": "Lab 3.ipynb",
      "provenance": [],
      "collapsed_sections": []
    },
    "kernelspec": {
      "name": "python3",
      "display_name": "Python 3"
    }
  },
  "cells": [
    {
      "cell_type": "code",
      "metadata": {
        "id": "rjKYP8oSayQ-"
      },
      "source": [
        "import numpy as np\r\n",
        "import matplotlib.pyplot as plt\r\n",
        "%matplotlib inline"
      ],
      "execution_count": 2,
      "outputs": []
    },
    {
      "cell_type": "markdown",
      "metadata": {
        "id": "VgrYAWJ11ObK"
      },
      "source": [
        "**TASK 1** "
      ]
    },
    {
      "cell_type": "code",
      "metadata": {
        "id": "CzuIBxa6wtXq"
      },
      "source": [
        "G = np.array([[8,5,1],[2,9,4]])\r\n",
        "T = np.array([[6,3,3],[3,1,5]])\r\n",
        "A = np.array([[4,3,9],[4,2,1]])"
      ],
      "execution_count": 3,
      "outputs": []
    },
    {
      "cell_type": "code",
      "metadata": {
        "colab": {
          "base_uri": "https://localhost:8080/"
        },
        "id": "SEAyLTot3yLh",
        "outputId": "3d3c52bf-a147-4430-a7e6-a348b476702b"
      },
      "source": [
        "A1 = G + T + A\r\n",
        "A2 = T + G + A\r\n",
        "A3 = A1 + A2\r\n",
        "print (A3)"
      ],
      "execution_count": 4,
      "outputs": [
        {
          "output_type": "stream",
          "text": [
            "[[36 22 26]\n",
            " [18 24 20]]\n"
          ],
          "name": "stdout"
        }
      ]
    },
    {
      "cell_type": "markdown",
      "metadata": {
        "id": "2b6bEVTc_gDC"
      },
      "source": [
        "**Task 2**"
      ]
    },
    {
      "cell_type": "code",
      "metadata": {
        "colab": {
          "base_uri": "https://localhost:8080/",
          "height": 269
        },
        "id": "nusB_2iG6e8a",
        "outputId": "20f4dbbb-3a6f-4c2f-92cc-01c35b1d7d93"
      },
      "source": [
        "G = np.array([11,25])\r\n",
        "T = np.array([11,-5])\r\n",
        "A = np.array([19,24])\r\n",
        "\r\n",
        "plt.xlim(-20,20)\r\n",
        "plt.ylim(-20,20)\r\n",
        "\r\n",
        "c = np.arange(-100,100)\r\n",
        "plt.plot(c*B[0,0], c*B[0,1], color='red') \r\n",
        "plt.plot(c*B[1,0], c*B[1,1], color='blue')\r\n",
        "plt.plot(c*B[2,0], c*B[2,1], color='green')\r\n",
        "\r\n",
        "plt.xlim(-20,20)\r\n",
        "plt.ylim(-20,20)\r\n",
        "plt.axhline(y=0, color= 'black')\r\n",
        "plt.axvline(x=0, color= 'black')\r\n",
        "plt.grid()\r\n",
        "\r\n",
        "plt.show()"
      ],
      "execution_count": 16,
      "outputs": [
        {
          "output_type": "display_data",
          "data": {
            "image/png": "[encoded data removed]",
            "text/plain": [
              "<Figure size 432x288 with 1 Axes>"
            ]
          },
          "metadata": {
            "tags": [],
            "needs_background": "light"
          }
        }
      ]
    },
    {
      "cell_type": "code",
      "metadata": {
        "id": "GXm7JMRW_wd5"
      },
      "source": [
        ""
      ],
      "execution_count": null,
      "outputs": []
    }
  ]
}