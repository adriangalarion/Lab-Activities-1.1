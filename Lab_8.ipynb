{
  "nbformat": 4,
  "nbformat_minor": 0,
  "metadata": {
    "colab": {
      "name": "Lab 8.ipynb",
      "provenance": [],
      "collapsed_sections": []
    },
    "kernelspec": {
      "name": "python3",
      "display_name": "Python 3"
    },
    "language_info": {
      "name": "python"
    }
  },
  "cells": [
    {
      "cell_type": "markdown",
      "metadata": {
        "id": "jEJW9amr67fY"
      },
      "source": [
        "## Laboratory 8 : System of Linear Equations"
      ]
    },
    {
      "cell_type": "code",
      "metadata": {
        "id": "rs7QWJZX2vKm"
      },
      "source": [
        "import numpy as np\n",
        "import matplotlib.pyplot as plt\n",
        "%matplotlib inline"
      ],
      "execution_count": 1,
      "outputs": []
    },
    {
      "cell_type": "markdown",
      "metadata": {
        "id": "mxm1fweS3CA2"
      },
      "source": [
        "##Exercise 1 "
      ]
    },
    {
      "cell_type": "code",
      "metadata": {
        "colab": {
          "base_uri": "https://localhost:8080/"
        },
        "id": "NJWYscHY3LXc",
        "outputId": "9b592e0d-7687-4529-f798-cd6c83fe2ece"
      },
      "source": [
        "A = np.array([\n",
        "    [1,2,3],\n",
        "    [6,1,4],\n",
        "    [3,3,1]\n",
        "])\n",
        "\n",
        "B = np.array([\n",
        "    [10],\n",
        "    [4],\n",
        "    [8]\n",
        "])\n",
        "\n",
        "print(\"Matrix x: \\n\", A)\n",
        "print(\"\\nMatrix y: \\n\", B)\n",
        "\n",
        "\n",
        "A_inv = np.linalg.inv(A)\n",
        "print(\"\\nResult: \")\n",
        "print(A_inv @ B)"
      ],
      "execution_count": 3,
      "outputs": [
        {
          "output_type": "stream",
          "text": [
            "Matrix x: \n",
            " [[1 2 3]\n",
            " [6 1 4]\n",
            " [3 3 1]]\n",
            "\n",
            "Matrix y: \n",
            " [[10]\n",
            " [ 4]\n",
            " [ 8]]\n",
            "\n",
            "Result: \n",
            "[[-0.91304348]\n",
            " [ 3.04347826]\n",
            " [ 1.60869565]]\n"
          ],
          "name": "stdout"
        }
      ]
    },
    {
      "cell_type": "markdown",
      "metadata": {
        "id": "MoTSvyyq5Ajl"
      },
      "source": [
        "##Exercise 2"
      ]
    },
    {
      "cell_type": "code",
      "metadata": {
        "colab": {
          "base_uri": "https://localhost:8080/"
        },
        "id": "SF15N5wD5Ycd",
        "outputId": "ad8de78a-7bcf-43d6-f019-9f5328a267a1"
      },
      "source": [
        "A_inv1 = np.linalg.solve(A, B)\n",
        "\n",
        "print(\"Matrix x: \\n\", A)\n",
        "print(\"\\nMatrix y: \\n\", B)\n",
        "\n",
        "print(\"\\nResult: \")\n",
        "print(A_inv1)"
      ],
      "execution_count": 4,
      "outputs": [
        {
          "output_type": "stream",
          "text": [
            "Matrix x: \n",
            " [[1 2 3]\n",
            " [6 1 4]\n",
            " [3 3 1]]\n",
            "\n",
            "Matrix y: \n",
            " [[10]\n",
            " [ 4]\n",
            " [ 8]]\n",
            "\n",
            "Result: \n",
            "[[-0.91304348]\n",
            " [ 3.04347826]\n",
            " [ 1.60869565]]\n"
          ],
          "name": "stdout"
        }
      ]
    },
    {
      "cell_type": "code",
      "metadata": {
        "id": "_TibUxb_6VB2"
      },
      "source": [
        ""
      ],
      "execution_count": null,
      "outputs": []
    }
  ]
}