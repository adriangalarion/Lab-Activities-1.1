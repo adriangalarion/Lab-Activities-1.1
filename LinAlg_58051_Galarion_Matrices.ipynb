{
  "nbformat": 4,
  "nbformat_minor": 0,
  "metadata": {
    "colab": {
      "name": "LinAlg_58051_Galarion_Matrices.ipynb",
      "provenance": [],
      "collapsed_sections": []
    },
    "kernelspec": {
      "name": "python3",
      "display_name": "Python 3"
    },
    "language_info": {
      "name": "python"
    }
  },
  "cells": [
    {
      "cell_type": "markdown",
      "metadata": {
        "id": "T3JPWtLpREAP"
      },
      "source": [
        "#**Laboratory 6: Matrices**\n"
      ]
    },
    {
      "cell_type": "markdown",
      "metadata": {
        "id": "ONJco_kXReKV"
      },
      "source": [
        "\n",
        "\n",
        "### Task 1\n",
        "\n"
      ]
    },
    {
      "cell_type": "code",
      "metadata": {
        "id": "37cfqaIURZuO"
      },
      "source": [
        "import numpy as np\n",
        "import matplotlib.pyplot as plt\n",
        "%matplotlib inline"
      ],
      "execution_count": 33,
      "outputs": []
    },
    {
      "cell_type": "code",
      "metadata": {
        "id": "2huVmFMqRiHt"
      },
      "source": [
        "def mat_desc(x):\n",
        "    print(x)\n",
        "    if x.size > 0:\n",
        "        is_square = True if x.shape[0] == x.shape[1] else False \n",
        "        print(\"Shape/Size: \", x.shape)\n",
        "        print(\"Rank: \", x.ndim)\n",
        "        print(\"Is an Square Matrix: \", is_square)\n",
        "        is_zeros = not np.any(x)\n",
        "        print(\"Is an Zero Matrix: \", is_zeros)\n",
        "        is_ones = np.all((x == 1))\n",
        "        print(\"Is an Ones Matrix: \", is_ones)\n",
        "        #initialization of the length of rows and columns\n",
        "        rows = len(x);  \n",
        "        cols = len(x[0]);  \n",
        "        is_identity=True\n",
        "        #checking whether the diagonal is 1 and remaining values are 0 \n",
        "        for i in range(0, rows):  \n",
        "                for j in range(0, cols):  \n",
        "                    if(i == j and x[i][j] != 1):  \n",
        "                        is_identity = False\n",
        "                    if(i != j and x[i][j] != 0):  \n",
        "                        is_identity = False\n",
        "        if is_identity:\n",
        "            print(\"Is an Identity Matrix\")\n",
        "        else:\n",
        "            print(\"Is not an Identity Matrix\")"
      ],
      "execution_count": 26,
      "outputs": []
    },
    {
      "cell_type": "code",
      "metadata": {
        "id": "vTaUQ7S6UAmu"
      },
      "source": [
        "A = np.array([[2,2,1],[1,2,3],[3,3,5]])\n",
        "B = np.array([[1,0,0],[5,4,1],[0,0,0]])\n",
        "C = np.array([[4,2,3],[5,1,2],[6,1,1]])\n",
        "D = np.array([[5,1,2],[1,1,2],[8,2,1]])\n",
        "E = np.array([[5,5,3],[3,3,2],[1,1,1]]) ## Matrix declarations"
      ],
      "execution_count": 36,
      "outputs": []
    },
    {
      "cell_type": "code",
      "metadata": {
        "colab": {
          "base_uri": "https://localhost:8080/"
        },
        "id": "t0ux8Ix7UEgE",
        "outputId": "8bf37610-1c0a-468e-f123-763e4bf1bdd0"
      },
      "source": [
        "mat_desc(A)"
      ],
      "execution_count": 28,
      "outputs": [
        {
          "output_type": "stream",
          "text": [
            "[[2 2 1]\n",
            " [1 2 3]\n",
            " [3 3 5]]\n",
            "Shape/Size:  (3, 3)\n",
            "Rank:  2\n",
            "Is an Square Matrix:  True\n",
            "Is an Zero Matrix:  False\n",
            "Is an Ones Matrix:  False\n",
            "Is not an Identity Matrix\n"
          ],
          "name": "stdout"
        }
      ]
    },
    {
      "cell_type": "code",
      "metadata": {
        "colab": {
          "base_uri": "https://localhost:8080/"
        },
        "id": "l45etYkiUUNc",
        "outputId": "2b2ac075-112a-4fb6-cc40-0843785381ce"
      },
      "source": [
        "mat_desc(B)"
      ],
      "execution_count": 29,
      "outputs": [
        {
          "output_type": "stream",
          "text": [
            "[[1 0 0]\n",
            " [5 4 1]\n",
            " [0 0 0]]\n",
            "Shape/Size:  (3, 3)\n",
            "Rank:  2\n",
            "Is an Square Matrix:  True\n",
            "Is an Zero Matrix:  False\n",
            "Is an Ones Matrix:  False\n",
            "Is not an Identity Matrix\n"
          ],
          "name": "stdout"
        }
      ]
    },
    {
      "cell_type": "code",
      "metadata": {
        "colab": {
          "base_uri": "https://localhost:8080/"
        },
        "id": "NVbar_xxavli",
        "outputId": "cf01b562-c7fd-4423-8e15-bcfea873f804"
      },
      "source": [
        "mat_desc(C)"
      ],
      "execution_count": 30,
      "outputs": [
        {
          "output_type": "stream",
          "text": [
            "[[4 2 3]\n",
            " [5 1 2]\n",
            " [6 1 1]]\n",
            "Shape/Size:  (3, 3)\n",
            "Rank:  2\n",
            "Is an Square Matrix:  True\n",
            "Is an Zero Matrix:  False\n",
            "Is an Ones Matrix:  False\n",
            "Is not an Identity Matrix\n"
          ],
          "name": "stdout"
        }
      ]
    },
    {
      "cell_type": "code",
      "metadata": {
        "colab": {
          "base_uri": "https://localhost:8080/"
        },
        "id": "Ex4bGWaKazLy",
        "outputId": "aba4f21f-3330-41ef-e72c-019c246d51cb"
      },
      "source": [
        "mat_desc(D)"
      ],
      "execution_count": 31,
      "outputs": [
        {
          "output_type": "stream",
          "text": [
            "[[5 1 2]\n",
            " [1 1 2]\n",
            " [8 2 1]]\n",
            "Shape/Size:  (3, 3)\n",
            "Rank:  2\n",
            "Is an Square Matrix:  True\n",
            "Is an Zero Matrix:  False\n",
            "Is an Ones Matrix:  False\n",
            "Is not an Identity Matrix\n"
          ],
          "name": "stdout"
        }
      ]
    },
    {
      "cell_type": "code",
      "metadata": {
        "colab": {
          "base_uri": "https://localhost:8080/"
        },
        "id": "IkSXLqCLa1QS",
        "outputId": "61ed6a1e-53e9-4c64-ed6d-4c533428ade6"
      },
      "source": [
        "mat_desc(E)"
      ],
      "execution_count": 32,
      "outputs": [
        {
          "output_type": "stream",
          "text": [
            "[[5 5 3]\n",
            " [3 3 2]\n",
            " [1 1 1]]\n",
            "Shape/Size:  (3, 3)\n",
            "Rank:  2\n",
            "Is an Square Matrix:  True\n",
            "Is an Zero Matrix:  False\n",
            "Is an Ones Matrix:  False\n",
            "Is not an Identity Matrix\n"
          ],
          "name": "stdout"
        }
      ]
    },
    {
      "cell_type": "markdown",
      "metadata": {
        "id": "l15C_bRR134O"
      },
      "source": [
        "\n",
        "\n",
        "### Task 2\n",
        "\n",
        "\n"
      ]
    },
    {
      "cell_type": "code",
      "metadata": {
        "id": "No5jI9ky16kV"
      },
      "source": [
        "def mat_operations(x,y):\n",
        "    print(\"Array 1: \\n\", x)\n",
        "    print(\"\\nArray 2: \\n\", y)\n",
        "    print(\"\\nIs Scalar(Array1): \",isinstance(x, (int, float, complex, bytes)))\n",
        "    print(\"\\nIs Scalar(Array2): \",isinstance(y, (int, float, complex, bytes)))\n",
        "    check_scalar1 = isinstance(x, (int, float, complex, bytes))\n",
        "    check_scalar2 = isinstance(y, (int, float, complex, bytes))\n",
        "    check_array1 = isinstance(x, np.ndarray)\n",
        "    check_array2 = isinstance(y, np.ndarray)\n",
        "    if check_scalar1 == True or check_scalar2 == True or check_array1 == True and check_array2 == True and x.shape == y.shape:\n",
        "        print(\"\\nSum of the two arrays: \")\n",
        "        print(x+y)\n",
        "        print(\"\\nDifference of two arrays: \")\n",
        "        print(x-y)\n",
        "        print(\"\\nProduct of the two arrays: \")\n",
        "        print(x*y)\n",
        "        print(\"\\nQuotient of the two arrays: \")\n",
        "        print(x/y)\n",
        "    elif check_array1 == True and check_array2 == True and x.shape != y.shape:\n",
        "        print(\"\\nCan't perform certain operations, Shapes of array should be equal.\")"
      ],
      "execution_count": 48,
      "outputs": []
    },
    {
      "cell_type": "code",
      "metadata": {
        "id": "I3puuaLYDXia"
      },
      "source": [
        "F = np.array([[2,1,2],[5,4,1],[5,1,2]])\n",
        "G = np.array([[1,1,2],[3,1,1],[1,8,4]])\n",
        "H = np.array([[1,9,1],[1,3,2],[1,2,5]])\n",
        "I = np.array([[9,8,7],[7,5,6],[8,3,2],[2,4,6]])\n",
        "J = np.array([[5,1,1],[3,2,1],[2,6,8]])"
      ],
      "execution_count": 49,
      "outputs": []
    },
    {
      "cell_type": "code",
      "metadata": {
        "colab": {
          "base_uri": "https://localhost:8080/"
        },
        "id": "b35Utc8YDaAI",
        "outputId": "f59408f4-aba2-43e5-d4e4-497b36b86597"
      },
      "source": [
        "print(\"matrices pair 1:\\n\")\n",
        "mat_operations(F,G)\n",
        "print(\"matrices pair 2:\\n\")\n",
        "mat_operations(H,I)\n",
        "print(\"matrices pair 3:\\n\")\n",
        "mat_operations(J,F)\n"
      ],
      "execution_count": 52,
      "outputs": [
        {
          "output_type": "stream",
          "text": [
            "matrices pair 1:\n",
            "\n",
            "Array 1: \n",
            " [[2 1 2]\n",
            " [5 4 1]\n",
            " [5 1 2]]\n",
            "\n",
            "Array 2: \n",
            " [[1 1 2]\n",
            " [3 1 1]\n",
            " [1 8 4]]\n",
            "\n",
            "Is Scalar(Array1):  False\n",
            "\n",
            "Is Scalar(Array2):  False\n",
            "\n",
            "Sum of the two arrays: \n",
            "[[3 2 4]\n",
            " [8 5 2]\n",
            " [6 9 6]]\n",
            "\n",
            "Difference of two arrays: \n",
            "[[ 1  0  0]\n",
            " [ 2  3  0]\n",
            " [ 4 -7 -2]]\n",
            "\n",
            "Product of the two arrays: \n",
            "[[ 2  1  4]\n",
            " [15  4  1]\n",
            " [ 5  8  8]]\n",
            "\n",
            "Quotient of the two arrays: \n",
            "[[2.         1.         1.        ]\n",
            " [1.66666667 4.         1.        ]\n",
            " [5.         0.125      0.5       ]]\n",
            "matrices pair 2:\n",
            "\n",
            "Array 1: \n",
            " [[1 9 1]\n",
            " [1 3 2]\n",
            " [1 2 5]]\n",
            "\n",
            "Array 2: \n",
            " [[9 8 7]\n",
            " [7 5 6]\n",
            " [8 3 2]\n",
            " [2 4 6]]\n",
            "\n",
            "Is Scalar(Array1):  False\n",
            "\n",
            "Is Scalar(Array2):  False\n",
            "\n",
            "Can't perform certain operations, Shapes of array should be equal.\n",
            "matrices pair 3:\n",
            "\n",
            "Array 1: \n",
            " [[5 1 1]\n",
            " [3 2 1]\n",
            " [2 6 8]]\n",
            "\n",
            "Array 2: \n",
            " [[2 1 2]\n",
            " [5 4 1]\n",
            " [5 1 2]]\n",
            "\n",
            "Is Scalar(Array1):  False\n",
            "\n",
            "Is Scalar(Array2):  False\n",
            "\n",
            "Sum of the two arrays: \n",
            "[[ 7  2  3]\n",
            " [ 8  6  2]\n",
            " [ 7  7 10]]\n",
            "\n",
            "Difference of two arrays: \n",
            "[[ 3  0 -1]\n",
            " [-2 -2  0]\n",
            " [-3  5  6]]\n",
            "\n",
            "Product of the two arrays: \n",
            "[[10  1  2]\n",
            " [15  8  1]\n",
            " [10  6 16]]\n",
            "\n",
            "Quotient of the two arrays: \n",
            "[[2.5 1.  0.5]\n",
            " [0.6 0.5 1. ]\n",
            " [0.4 6.  4. ]]\n"
          ],
          "name": "stdout"
        }
      ]
    }
  ]
}