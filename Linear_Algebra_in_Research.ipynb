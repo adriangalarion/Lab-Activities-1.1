{
  "nbformat": 4,
  "nbformat_minor": 0,
  "metadata": {
    "colab": {
      "name": "Linear Algebra in Research ",
      "provenance": [],
      "collapsed_sections": []
    },
    "kernelspec": {
      "name": "python3",
      "display_name": "Python 3"
    },
    "language_info": {
      "name": "python"
    }
  },
  "cells": [
    {
      "cell_type": "markdown",
      "metadata": {
        "id": "PUE-WElApSR7"
      },
      "source": [
        "##Application of Linear Algebra in Data Science "
      ]
    },
    {
      "cell_type": "markdown",
      "metadata": {
        "id": "ZFmKxRR2pcCf"
      },
      "source": [
        "Here is the Python code to calculate and plot the MSE"
      ]
    },
    {
      "cell_type": "code",
      "metadata": {
        "id": "O5K2Q7zUm-29"
      },
      "source": [
        "import matplotlib.pyplot as plt\n"
      ],
      "execution_count": 14,
      "outputs": []
    },
    {
      "cell_type": "code",
      "metadata": {
        "colab": {
          "base_uri": "https://localhost:8080/",
          "height": 332
        },
        "id": "qP3-tS2unzna",
        "outputId": "a2cb7565-5934-45d4-dd96-922f32c8ed5f"
      },
      "source": [
        "x = list(range(1,6)) #data points\n",
        "y = [1,1,2,2,4]  #original values  \n",
        "y_bar = [0.6,1.29,1.99,2.69,3.4]  #predicted values\n",
        "summation = 0 \n",
        "n = len(y) \n",
        "for i in range(0, n):  \n",
        "    # finding the difference between observed and predicted value\n",
        "    difference = y[i] - y_bar[i]\n",
        "    squared_difference = difference**2  # taking square of the differene\n",
        "    # taking a sum of all the differences\n",
        "    summation = summation + squared_difference\n",
        "MSE = summation/n  # get the average of all\n",
        "print(\"The Mean Square Error is: \", MSE)\n",
        "#Plot relationship\n",
        "plt.scatter(x, y,  color='#06AED5')\n",
        "plt.plot(x, y_bar, color='#1D3557', linewidth=2)\n",
        "plt.xlabel('Data Points', fontsize=12)\n",
        "plt.ylabel('Output', fontsize=12)\n",
        "plt.title(\"MSE\")"
      ],
      "execution_count": 15,
      "outputs": [
        {
          "output_type": "stream",
          "text": [
            "The Mean Square Error is:  0.21606\n"
          ],
          "name": "stdout"
        },
        {
          "output_type": "execute_result",
          "data": {
            "text/plain": [
              "Text(0.5, 1.0, 'MSE')"
            ]
          },
          "metadata": {
            "tags": []
          },
          "execution_count": 15
        },
        {
          "output_type": "display_data",
          "data": {
            "image/png": "[encoded data removed]",
            "text/plain": [
              "<Figure size 432x288 with 1 Axes>"
            ]
          },
          "metadata": {
            "tags": [],
            "needs_background": "light"
          }
        }
      ]
    },
    {
      "cell_type": "code",
      "metadata": {
        "id": "eb0h3k6Yn1tj"
      },
      "source": [
        ""
      ],
      "execution_count": null,
      "outputs": []
    }
  ]
}